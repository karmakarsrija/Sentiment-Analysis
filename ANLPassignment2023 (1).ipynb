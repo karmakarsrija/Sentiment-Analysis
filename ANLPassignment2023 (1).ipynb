{
  "cells": [
    {
      "cell_type": "markdown",
      "metadata": {
        "id": "f2S8I2ny-ovS"
      },
      "source": [
        "# ANLP Assignment: Sentiment Classification\n",
        "\n",
        "In this assignment, you will be investigating NLP methods for distinguishing positive and negative reviews written about movies.\n",
        "\n",
        "For assessment, you are expected to complete and submit this notebook file.  When answers require code, you may import and use library functions (unless explicitly told otherwise).  All of your own code should be included in the notebook rather than imported from elsewhere.  Written answers should also be included in the notebook.  You should insert as many extra cells as you want and change the type between code and markdown as appropriate.\n",
        "\n",
        "In order to avoid misconduct, you should not talk about the assignment questions with your peers.  If you are not sure what a question is asking you to do or have any other questions, please ask me or one of the Teaching Assistants.\n",
        "\n",
        "Marking guidelines are provided as a separate document.\n",
        "\n",
        "The first few cells contain code to set-up the assignment and bring in some data.   In order to provide unique datasets for analysis by different students, you must enter your candidate number in the following cell.  Otherwise do not change the code in these cells."
      ]
    },
    {
      "cell_type": "code",
      "execution_count": 23,
      "metadata": {
        "id": "1gXQAZas-l9c"
      },
      "outputs": [],
      "source": [
        "candidateno=277244 #this MUST be updated to your candidate number so that you get a unique data sample\n"
      ]
    },
    {
      "cell_type": "code",
      "execution_count": 24,
      "metadata": {
        "id": "nk8JTP88A8vs",
        "colab": {
          "base_uri": "https://localhost:8080/"
        },
        "outputId": "5226a2a4-de4d-4b31-a27d-16bdb63c80e9"
      },
      "outputs": [
        {
          "output_type": "stream",
          "name": "stderr",
          "text": [
            "[nltk_data] Downloading package punkt to /root/nltk_data...\n",
            "[nltk_data]   Package punkt is already up-to-date!\n",
            "[nltk_data] Downloading package stopwords to /root/nltk_data...\n",
            "[nltk_data]   Package stopwords is already up-to-date!\n",
            "[nltk_data] Downloading package movie_reviews to /root/nltk_data...\n",
            "[nltk_data]   Package movie_reviews is already up-to-date!\n"
          ]
        }
      ],
      "source": [
        "#do not change the code in this cell\n",
        "#preliminary imports\n",
        "\n",
        "#set up nltk\n",
        "import nltk\n",
        "nltk.download('punkt')\n",
        "nltk.download('stopwords')\n",
        "nltk.download('movie_reviews')\n",
        "from nltk.corpus import stopwords\n",
        "from nltk.tokenize import word_tokenize\n",
        "from nltk.corpus import movie_reviews\n",
        "\n",
        "#for setting up training and testing data\n",
        "import random\n",
        "\n",
        "#useful other tools\n",
        "import re\n",
        "import pandas as pd\n",
        "import matplotlib.pyplot as plt\n",
        "%matplotlib inline\n",
        "from itertools import zip_longest\n",
        "from nltk.probability import FreqDist\n",
        "from nltk.classify.api import ClassifierI\n"
      ]
    },
    {
      "cell_type": "code",
      "execution_count": 25,
      "metadata": {
        "id": "BHBkzAccCVaZ"
      },
      "outputs": [],
      "source": [
        "#do not change the code in this cell\n",
        "def split_data(data, ratio=0.7): # when the second argument is not given, it defaults to 0.7\n",
        "    \"\"\"\n",
        "    Given corpus generator and ratio:\n",
        "     - partitions the corpus into training data and test data, where the proportion in train is ratio,\n",
        "\n",
        "    :param data: A corpus generator.\n",
        "    :param ratio: The proportion of training documents (default 0.7)\n",
        "    :return: a pair (tuple) of lists where the first element of the\n",
        "            pair is a list of the training data and the second is a list of the test data.\n",
        "    \"\"\"\n",
        "\n",
        "    data = list(data)\n",
        "    n = len(data)\n",
        "    train_indices = random.sample(range(n), int(n * ratio))\n",
        "    test_indices = list(set(range(n)) - set(train_indices))\n",
        "    train = [data[i] for i in train_indices]\n",
        "    test = [data[i] for i in test_indices]\n",
        "    return (train, test)\n",
        "\n",
        "\n",
        "def get_train_test_data():\n",
        "\n",
        "    #get ids of positive and negative movie reviews\n",
        "    pos_review_ids=movie_reviews.fileids('pos')\n",
        "    neg_review_ids=movie_reviews.fileids('neg')\n",
        "\n",
        "    #split positive and negative data into training and testing sets\n",
        "    pos_train_ids, pos_test_ids = split_data(pos_review_ids)\n",
        "    neg_train_ids, neg_test_ids = split_data(neg_review_ids)\n",
        "    #add labels to the data and concatenate\n",
        "    training = [(movie_reviews.words(f),'pos') for f in pos_train_ids]+[(movie_reviews.words(f),'neg') for f in neg_train_ids]\n",
        "    testing = [(movie_reviews.words(f),'pos') for f in pos_test_ids]+[(movie_reviews.words(f),'neg') for f in neg_test_ids]\n",
        "\n",
        "    return training, testing"
      ]
    },
    {
      "cell_type": "markdown",
      "metadata": {
        "id": "1N3LWwBYICPP"
      },
      "source": [
        "When you have run the cell below, your unique training and testing samples will be stored in `training_data` and `testing_data`"
      ]
    },
    {
      "cell_type": "code",
      "execution_count": 26,
      "metadata": {
        "id": "HJLegkdPFUJA",
        "colab": {
          "base_uri": "https://localhost:8080/"
        },
        "outputId": "6fcf23bb-bf3e-4fb4-a7cc-456a55c37891"
      },
      "outputs": [
        {
          "output_type": "stream",
          "name": "stdout",
          "text": [
            "The amount of training data is 1400\n",
            "The amount of testing data is 600\n",
            "The representation of a single data item is below\n",
            "(['one', 'can', 'not', 'observe', 'a', 'star', 'trek', ...], 'pos')\n"
          ]
        }
      ],
      "source": [
        "#do not change the code in this cell\n",
        "random.seed(candidateno)\n",
        "training_data,testing_data=get_train_test_data()\n",
        "print(\"The amount of training data is {}\".format(len(training_data)))\n",
        "print(\"The amount of testing data is {}\".format(len(testing_data)))\n",
        "print(\"The representation of a single data item is below\")\n",
        "print(training_data[0])"
      ]
    },
    {
      "cell_type": "markdown",
      "metadata": {
        "id": "RbTq6eGv2XT2"
      },
      "source": [
        "1)  \n",
        "a) **Generate** a list of 10 content words which are representative of the positive reviews in your training data.\n",
        "\n",
        "b) **Generate** a list of 10 content words which are representative of the negative reviews in your training data.\n",
        "\n",
        "c) **Explain** what you have done and why\n",
        "\n",
        "[20\\%]"
      ]
    },
    {
      "cell_type": "code",
      "execution_count": 27,
      "metadata": {
        "id": "JXHrtNCg2XT4",
        "colab": {
          "base_uri": "https://localhost:8080/"
        },
        "outputId": "bfac18d6-9998-4877-9efc-9ae11a8239e0"
      },
      "outputs": [
        {
          "output_type": "stream",
          "name": "stdout",
          "text": [
            "A list of 10 content words which are representative of the positive reviews in your training data:\n",
            "['film', 'life', 'also', 'great', 'best', 'story', 'well', 'one', 'many', 'world']\n"
          ]
        }
      ],
      "source": [
        "#1a and 1b\n",
        "#two freqdist objects\n",
        "positive_freq=FreqDist()\n",
        "negative_freq=FreqDist()\n",
        "stop=stopwords.words('english')\n",
        "\n",
        "#filtering and modify wordlist--removing stopwords,punctuation and convert to lower case\n",
        "def normalise_data(wordlist):\n",
        "  lower_case=[w.lower() for w in wordlist]\n",
        "  modify=[w for w in lower_case if w.isalpha() and w not in stop]\n",
        "  return modify\n",
        "\n",
        "#creating training_normalise and testing_normalise from training_data and testing_data\n",
        "training_normalise_data=[(FreqDist(normalise_data(wordlist)),label) for (wordlist,label) in training_data]\n",
        "testing_normalise_data=[(FreqDist(normalise_data(wordlist)),label) for (wordlist,label) in testing_data]\n",
        "\n",
        "#frequency distribution\n",
        "for reviewDist,label in training_normalise_data:\n",
        "  if label=='pos':\n",
        "    positive_freq+=reviewDist\n",
        "  else:\n",
        "    negative_freq+=reviewDist\n",
        "posdiff=positive_freq-negative_freq\n",
        "negdiff=negative_freq-positive_freq\n",
        "\n",
        "#returning topk words based on frequency diff\n",
        "def most_frequent_words(posfreq,negfreq,topk):\n",
        "    difference=posfreq-negfreq\n",
        "    sorteddiff=difference.most_common()\n",
        "    justwords=[word for (word,freq) in sorteddiff[:topk]]\n",
        "    return justwords\n",
        "#printing positive reviews\n",
        "print(\"A list of 10 content words which are representative of the positive reviews in your training data:\")\n",
        "positive_review_list=most_frequent_words(positive_freq,negative_freq,10)\n",
        "print(positive_review_list)"
      ]
    },
    {
      "cell_type": "code",
      "execution_count": 28,
      "metadata": {
        "id": "gvFu36xZ2XT5",
        "colab": {
          "base_uri": "https://localhost:8080/"
        },
        "outputId": "6cdd77f9-f341-4774-ce93-1e924675d866"
      },
      "outputs": [
        {
          "output_type": "stream",
          "name": "stdout",
          "text": [
            "A list of 10 content words which are representative of the negative reviews in your training data:\n",
            "['bad', 'movie', 'plot', 'even', 'worst', 'script', 'least', 'nothing', 'stupid', 'boring']\n"
          ]
        }
      ],
      "source": [
        "#printing negaive reviews\n",
        "print(\"A list of 10 content words which are representative of the negative reviews in your training data:\")\n",
        "negative_review_list=most_frequent_words(negative_freq,positive_freq,10)\n",
        "print(negative_review_list)"
      ]
    },
    {
      "cell_type": "code",
      "execution_count": 28,
      "metadata": {
        "id": "RgePc9hV2XT_"
      },
      "outputs": [],
      "source": []
    },
    {
      "cell_type": "markdown",
      "metadata": {
        "id": "JauTzY5N2XUB"
      },
      "source": [
        "**1C-Generate a list of 10 content words indicating postive and negative reviews**\n",
        "\n",
        "Two wordlist has been created for positive and negative reviews based on the labels `pos` and `neg` in training data-\n",
        "\n",
        "- I initialise '**`positive_freq`**'and '**`negative_freq`**'-two freqDist object. `Stopwords` module has been imported.`Stopwords` are set of commonly used words that carry very little information regarding the sentence and it can be removed.\n",
        "- I use `normalise_data()` function where I take wordlist paramenter and we are converting word list to lower case  and it will also remove the stopwords  and non aplhabetic characters like punctuations which will store in modify list.\n",
        "I used list comprehension to get `training_normalise_data` and `testing_normalise_data`. This are list of tuples. Both takes frequency distribution of normalised words(using `normalise_data()` function)  and also a label ('pos','neg') on training and testing data.we are basically recreating the **bag-of-words representations**, storing the results in `training_normalise_data` and `testing_normalise_data`\n",
        "\n",
        "- In the next step, I accumulate frequency distributions separately. I used for loop on training_normalise_data to extract freqdist and label for each review. if 'pos', the freqdist add to positive_freq else it will add to negative_freq.\n",
        "- In **`most_frequent_word()`** function , I take 3 argument-positive_freq,negative_freq and topk which are number of top words to extract.Then I find the difference between posfreq and negfreq and stored in `difference`.\n",
        "Finally we sort the difference extracting the most common words and their frequencies as a list of tuples.\n",
        "`Justwords` extracts the words from that sorted list having only the topk words. In summary, this task helps to identify highly discriminative words that contribute to the frequency of positive and negative feedback, allowing you to focus on the words that refer to one category.\n",
        "\n",
        "- Finally we have the **`postive_review_list and negative_review_list`**  ready, where we call the most_frequent_word function and we are taking 10 top words (topk value)\n",
        "\n",
        "We are trying to identify words which indicate positive sentiment and negative sentiment by comparing their frequency in positive and negative labelled data."
      ]
    },
    {
      "cell_type": "markdown",
      "metadata": {
        "id": "TApOQE6vND20"
      },
      "source": [
        "2)\n",
        "a) **Use** the lists generated in Q1 to build a **word list classifier** which will classify reviews as being positive or negative.\n",
        "\n",
        "b) **Explain** what you have done.\n",
        "\n",
        "[12.5\\%]\n"
      ]
    },
    {
      "cell_type": "code",
      "execution_count": 29,
      "metadata": {
        "id": "BThDMrcmODJy",
        "colab": {
          "base_uri": "https://localhost:8080/",
          "height": 35
        },
        "outputId": "6a4431fd-8ff0-44a8-d995-0acd03552392"
      },
      "outputs": [
        {
          "output_type": "execute_result",
          "data": {
            "text/plain": [
              "'neg'"
            ],
            "application/vnd.google.colaboratory.intrinsic+json": {
              "type": "string"
            }
          },
          "metadata": {},
          "execution_count": 29
        }
      ],
      "source": [
        "#2a--wordlist classifier\n",
        "from nltk.classify.api import ClassifierI\n",
        "import random\n",
        "class wordlistClassifier(ClassifierI):\n",
        "  def __init__(self,pos,neg):\n",
        "    self._pos=pos\n",
        "    self._neg=neg\n",
        "\n",
        "#classify method classify as 'pos' and 'neg based on word count value\n",
        "  def classify(self,doc):\n",
        "    count=0\n",
        "    for w,v in doc.items():\n",
        "      if w in self._pos:\n",
        "        count+=v\n",
        "      if w in self._neg:\n",
        "        count-=v\n",
        "    return \"neg\" if count<0 else \"pos\"\n",
        "\n",
        "  def labels(self):\n",
        "    return (\"pos\",\"neg\")\n",
        "#instance created\n",
        "wclassifier=wordlistClassifier(positive_review_list,negative_review_list)\n",
        "wclassifier.classify(FreqDist(\"The movie was boring\".split())) #calling classsify method\n"
      ]
    },
    {
      "cell_type": "code",
      "source": [
        "wclassifier.classify(FreqDist(\"The movie was great\".split()))"
      ],
      "metadata": {
        "colab": {
          "base_uri": "https://localhost:8080/",
          "height": 35
        },
        "id": "K-Xsnt2u2g5D",
        "outputId": "2dc008ee-2e46-48f2-d923-9397c4b56459"
      },
      "execution_count": 30,
      "outputs": [
        {
          "output_type": "execute_result",
          "data": {
            "text/plain": [
              "'pos'"
            ],
            "application/vnd.google.colaboratory.intrinsic+json": {
              "type": "string"
            }
          },
          "metadata": {},
          "execution_count": 30
        }
      ]
    },
    {
      "cell_type": "markdown",
      "metadata": {
        "id": "C6vK5Vyz2XUF"
      },
      "source": [
        "**2B--Wordlist Classifier**\n",
        "\n",
        "- I imported **`ClassifierI from nltk.classify.api`** and also a random module. class `wordlistclassifier` is defined.\n",
        "- `__init__` is used to initiate the classifier and takes two argument `pos` and neg stored as attribute of class instance\n",
        "- In the **`classify()` methods** we initialise `count` to 0. The method takes freqDist of words as parameter.For loop used through each word in the document.if the word is in `positive word list,` frequency will be added to the count otherwise frequency will be subtracted from count.if count is less than 0 then it will  return `neg` otherwise `pos`. The `classify` methods basically, assign a count based on the frequency of words in the positive and negative list.\n",
        "- The `label` method will return a tuple   -`pos` and `neg`.\n",
        "- **instance `wclassifier`** has been created  for class `wordlistclassifier` where we will pass the `positive_review_list` and `negative_review_list`.We will call the `classify` method to label the document correctly based on the words from the **positive_review_list and negative_review_list**. we test it on two sentence -one is a representation of positive sentiment and another one is a negative sentiment. In each sentence during testing , we spilt the sentence into words to detect wheter it is a postive or negative sentiment(`split()` function). split() is a built in function used to split a string to its substring.\n"
      ]
    },
    {
      "cell_type": "markdown",
      "metadata": {
        "id": "YZdDO_Y92XUH"
      },
      "source": [
        "3)\n",
        "a) **Calculate** the accuracy, precision, recall and F1 score of your classifier.\n",
        "\n",
        "b) Is it reasonable to evaluate the classifier in terms of its accuracy?  **Explain** your answer and give a counter-example (a scenario where it would / would not be reasonable to evaluate the classifier in terms of its accuracy).\n",
        "\n",
        "[20\\%]"
      ]
    },
    {
      "cell_type": "code",
      "execution_count": 31,
      "metadata": {
        "id": "1LQc8bsA2XUI"
      },
      "outputs": [],
      "source": [
        "#3a--accuracy calculation\n",
        "#cls is the instance of classifier object which will return pos and neg.\n",
        "def classifier_evaluate(cls,test_data):\n",
        "  a=0\n",
        "  docs,gs=zip(*test_data) #zip function and the *unpacking operator to transform list of tuple into two list\n",
        "  pred=cls.classify_many(docs) #we will get a list of prediction for passing all the docs to the classifier\n",
        "  for p,gl in zip(pred,gs):\n",
        "    if p==gl:\n",
        "      a+=1\n",
        "  return a/(len(test_data))"
      ]
    },
    {
      "cell_type": "code",
      "execution_count": 32,
      "metadata": {
        "id": "R_i80ceP2XUJ",
        "colab": {
          "base_uri": "https://localhost:8080/"
        },
        "outputId": "920a1340-ce42-4c5c-e7cc-fa8040af27ac"
      },
      "outputs": [
        {
          "output_type": "stream",
          "name": "stdout",
          "text": [
            "The accuracy  of word list classifier is 0.605\n"
          ]
        }
      ],
      "source": [
        "docs,gs=zip(*testing_normalise_data)\n",
        "pred=wclassifier.classify_many(docs)\n",
        "accuracy_score=classifier_evaluate(wclassifier,testing_normalise_data)\n",
        "print(f\"The accuracy  of word list classifier is {accuracy_score}\")"
      ]
    },
    {
      "cell_type": "code",
      "execution_count": 33,
      "metadata": {
        "id": "VbYwwhcs2XUL",
        "colab": {
          "base_uri": "https://localhost:8080/"
        },
        "outputId": "78e8bb8d-6cd1-469d-c213-c21626c2c37e"
      },
      "outputs": [
        {
          "output_type": "stream",
          "name": "stdout",
          "text": [
            "precision of wordlist classifier:0.5636363636363636\n",
            "recall of wordlist classifier: 0.93\n",
            "f1 score of wordlist classifier: 0.7018867924528301\n"
          ]
        }
      ],
      "source": [
        "#3a --calculating recall, precision, f1 score (confusion matrix)\n",
        "class confusion_matrix:\n",
        "  def __init__(self,pred,gs,classes=(\"pos\",\"neg\")):\n",
        "    self.p,self.n=classes\n",
        "    self.TP=0 #truepositive\n",
        "    self.FP=0 #falsepositive\n",
        "    self.FN=0 #falsenegative\n",
        "    self.TN=0 #truenegative\n",
        "    for p,g in zip(pred,gs):\n",
        "      if g==self.p:\n",
        "        if p==self.p:\n",
        "          self.TP+=1\n",
        "        else:\n",
        "          self.FN+=1\n",
        "      elif p==self.p:\n",
        "        self.FP+=1\n",
        "      else:\n",
        "        self.TN+=1\n",
        "  def precision(self):\n",
        "    p=0\n",
        "    p=self.TP/(self.TP+self.FP)\n",
        "    return p\n",
        "  def recall(self):\n",
        "    r=0\n",
        "    r=self.TP/(self.TP+self.FN)\n",
        "    return r\n",
        "  def F1(self):\n",
        "    f1=(2*self.precision()*self.recall())/(self.precision()+self.recall())\n",
        "    return f1\n",
        "#creating instance and calling the methods\n",
        "cm=confusion_matrix(pred,gs)\n",
        "p1=cm.precision()\n",
        "r1=cm.recall()\n",
        "f1=cm.F1()\n",
        "print(f\"precision of wordlist classifier:{p1}\")\n",
        "print(f\"recall of wordlist classifier: {r1}\")\n",
        "print(f\"f1 score of wordlist classifier: {f1}\")"
      ]
    },
    {
      "cell_type": "markdown",
      "metadata": {
        "id": "AVZp0N5J2XUL"
      },
      "source": [
        "**`Accuracy of classifier`**= $$\\frac{number\\; of\\;correct\\; prediction}{test\\; data\\; length} $$\n",
        "\n",
        "**`precision`**: $$\\frac{TP}{TP+FP} $$\n",
        " **`recall`**: $$\\frac{TP}{TP+FN} $$\n",
        "\n",
        " **F1 score**: $$\\frac{2×p×r}{p+r}$$\n",
        "\n",
        "[p=***precision***\n",
        "\n",
        "r=**`recall`**]\n",
        "\n",
        "**3B--Imbalanced class**\n",
        "\n",
        "**Accuracy is not a better measure if the data is imbalanced.**That means data should be balanced i.e there should equal number of positive and negative reviews.For example,there are 99 positive review and 1 negative review out of 100 reviews, the classifier predicts all the reviews as positive ,it would have achieve 99 percent accuracy.Here majority of the data is positive and minority is negative.It may achieve a high accuracy but as there is a inbalance in number of reviews the high accuracy is not the correct accuracy and it will unable to detect the small number of truly negative reviews.\n",
        "if there are 50 positive and 50 negative reviews out of 100 then it will be balanced. Balanced class make accuracy more perfect. In inbalanced cases,it would be more reasonable to use alternative evaluation metrics such as precision, recall ,F1 score."
      ]
    },
    {
      "cell_type": "markdown",
      "metadata": {
        "id": "LIS9UpmJNEAp"
      },
      "source": [
        "4)\n",
        "a)  **Construct** a Naive Bayes classifier (e.g., from NLTK).\n",
        "\n",
        "b)  **Compare** the performance of your word list classifier with the Naive Bayes classifier.  **Discuss** your results.\n",
        "\n",
        "[12.5\\%]"
      ]
    },
    {
      "cell_type": "code",
      "execution_count": 34,
      "metadata": {
        "id": "Gwjig-Y12XUN",
        "colab": {
          "base_uri": "https://localhost:8080/"
        },
        "outputId": "f501222d-e506-4e32-dcac-ac35f6f889ba"
      },
      "outputs": [
        {
          "output_type": "stream",
          "name": "stdout",
          "text": [
            "precision is 0.6136363636363636\n",
            "recall is 0.99\n",
            "F1 score is 0.7576530612244899\n"
          ]
        }
      ],
      "source": [
        "#4a\n",
        "#importing naivebayesclassifier and train it on training_normalise data\n",
        "from nltk.classify import NaiveBayesClassifier\n",
        "model=NaiveBayesClassifier.train(training_normalise_data)\n",
        "naive_predictions = model.classify_many(docs)\n",
        "#another instance of confusion_matrix\n",
        "cm2=confusion_matrix(naive_predictions,gs)\n",
        "#calling method precision,recall,F1\n",
        "p2=cm2.precision()\n",
        "r2=cm2.recall()\n",
        "f2=cm2.F1()\n",
        "print(f\"precision is {p2}\")\n",
        "print(f\"recall is {r2}\")\n",
        "print(f\"F1 score is {f2}\")"
      ]
    },
    {
      "cell_type": "code",
      "execution_count": 35,
      "metadata": {
        "id": "3AUsYRMa2XUN",
        "colab": {
          "base_uri": "https://localhost:8080/"
        },
        "outputId": "33ba0a9a-2ab1-40ef-c3ca-48401b66a2de"
      },
      "outputs": [
        {
          "output_type": "stream",
          "name": "stdout",
          "text": [
            "result of wordlist classifier and naivebayes classifier\n",
            "{'wordlistcalssifier': [0.5636363636363636, 0.93, 0.7018867924528301], 'naivebayesclassifier': [0.6136363636363636, 0.99, 0.7576530612244899], 'compare_result(wordlist-naive_bayes performanace)': [-0.050000000000000044, -0.05999999999999994, -0.0557662687716598]}\n"
          ]
        }
      ],
      "source": [
        "print(\"result of wordlist classifier and naivebayes classifier\")\n",
        "#d1={\"result\":[\"precision\",\"recall\",\"F1 score\"],\"wordlistcalssifier\":[p1,r1,f1], \"naivebayesclassifier\":[p2,r2,f2]}\n",
        "compare_precision=p1-p2\n",
        "compare_recall=r1-r2\n",
        "compare_f1=f1-f2\n",
        "#putting wordlist classifier and naive_bayes classifier with its comparison in a dictionaries\n",
        "d1={\"wordlistcalssifier\":[p1,r1,f1], \"naivebayesclassifier\":[p2,r2,f2],\"compare_result(wordlist-naive_bayes performanace)\":[compare_precision,compare_recall,compare_f1]}\n",
        "print(d1)"
      ]
    },
    {
      "cell_type": "code",
      "source": [
        "df=pd.DataFrame(d1,index=[\"precision\",\"recall\",\"F1 score\"])\n",
        "df.head(3)"
      ],
      "metadata": {
        "colab": {
          "base_uri": "https://localhost:8080/",
          "height": 142
        },
        "id": "RFLMwgoQ_2EX",
        "outputId": "d4972f6c-c60e-4f96-f9c3-b37b2ebbff69"
      },
      "execution_count": 36,
      "outputs": [
        {
          "output_type": "execute_result",
          "data": {
            "text/plain": [
              "           wordlistcalssifier  naivebayesclassifier  \\\n",
              "precision            0.563636              0.613636   \n",
              "recall               0.930000              0.990000   \n",
              "F1 score             0.701887              0.757653   \n",
              "\n",
              "           compare_result(wordlist-naive_bayes performanace)  \n",
              "precision                                          -0.050000  \n",
              "recall                                             -0.060000  \n",
              "F1 score                                           -0.055766  "
            ],
            "text/html": [
              "\n",
              "  <div id=\"df-3d85a489-9ad6-4e22-8957-f1f1ee28041b\" class=\"colab-df-container\">\n",
              "    <div>\n",
              "<style scoped>\n",
              "    .dataframe tbody tr th:only-of-type {\n",
              "        vertical-align: middle;\n",
              "    }\n",
              "\n",
              "    .dataframe tbody tr th {\n",
              "        vertical-align: top;\n",
              "    }\n",
              "\n",
              "    .dataframe thead th {\n",
              "        text-align: right;\n",
              "    }\n",
              "</style>\n",
              "<table border=\"1\" class=\"dataframe\">\n",
              "  <thead>\n",
              "    <tr style=\"text-align: right;\">\n",
              "      <th></th>\n",
              "      <th>wordlistcalssifier</th>\n",
              "      <th>naivebayesclassifier</th>\n",
              "      <th>compare_result(wordlist-naive_bayes performanace)</th>\n",
              "    </tr>\n",
              "  </thead>\n",
              "  <tbody>\n",
              "    <tr>\n",
              "      <th>precision</th>\n",
              "      <td>0.563636</td>\n",
              "      <td>0.613636</td>\n",
              "      <td>-0.050000</td>\n",
              "    </tr>\n",
              "    <tr>\n",
              "      <th>recall</th>\n",
              "      <td>0.930000</td>\n",
              "      <td>0.990000</td>\n",
              "      <td>-0.060000</td>\n",
              "    </tr>\n",
              "    <tr>\n",
              "      <th>F1 score</th>\n",
              "      <td>0.701887</td>\n",
              "      <td>0.757653</td>\n",
              "      <td>-0.055766</td>\n",
              "    </tr>\n",
              "  </tbody>\n",
              "</table>\n",
              "</div>\n",
              "    <div class=\"colab-df-buttons\">\n",
              "\n",
              "  <div class=\"colab-df-container\">\n",
              "    <button class=\"colab-df-convert\" onclick=\"convertToInteractive('df-3d85a489-9ad6-4e22-8957-f1f1ee28041b')\"\n",
              "            title=\"Convert this dataframe to an interactive table.\"\n",
              "            style=\"display:none;\">\n",
              "\n",
              "  <svg xmlns=\"http://www.w3.org/2000/svg\" height=\"24px\" viewBox=\"0 -960 960 960\">\n",
              "    <path d=\"M120-120v-720h720v720H120Zm60-500h600v-160H180v160Zm220 220h160v-160H400v160Zm0 220h160v-160H400v160ZM180-400h160v-160H180v160Zm440 0h160v-160H620v160ZM180-180h160v-160H180v160Zm440 0h160v-160H620v160Z\"/>\n",
              "  </svg>\n",
              "    </button>\n",
              "\n",
              "  <style>\n",
              "    .colab-df-container {\n",
              "      display:flex;\n",
              "      gap: 12px;\n",
              "    }\n",
              "\n",
              "    .colab-df-convert {\n",
              "      background-color: #E8F0FE;\n",
              "      border: none;\n",
              "      border-radius: 50%;\n",
              "      cursor: pointer;\n",
              "      display: none;\n",
              "      fill: #1967D2;\n",
              "      height: 32px;\n",
              "      padding: 0 0 0 0;\n",
              "      width: 32px;\n",
              "    }\n",
              "\n",
              "    .colab-df-convert:hover {\n",
              "      background-color: #E2EBFA;\n",
              "      box-shadow: 0px 1px 2px rgba(60, 64, 67, 0.3), 0px 1px 3px 1px rgba(60, 64, 67, 0.15);\n",
              "      fill: #174EA6;\n",
              "    }\n",
              "\n",
              "    .colab-df-buttons div {\n",
              "      margin-bottom: 4px;\n",
              "    }\n",
              "\n",
              "    [theme=dark] .colab-df-convert {\n",
              "      background-color: #3B4455;\n",
              "      fill: #D2E3FC;\n",
              "    }\n",
              "\n",
              "    [theme=dark] .colab-df-convert:hover {\n",
              "      background-color: #434B5C;\n",
              "      box-shadow: 0px 1px 3px 1px rgba(0, 0, 0, 0.15);\n",
              "      filter: drop-shadow(0px 1px 2px rgba(0, 0, 0, 0.3));\n",
              "      fill: #FFFFFF;\n",
              "    }\n",
              "  </style>\n",
              "\n",
              "    <script>\n",
              "      const buttonEl =\n",
              "        document.querySelector('#df-3d85a489-9ad6-4e22-8957-f1f1ee28041b button.colab-df-convert');\n",
              "      buttonEl.style.display =\n",
              "        google.colab.kernel.accessAllowed ? 'block' : 'none';\n",
              "\n",
              "      async function convertToInteractive(key) {\n",
              "        const element = document.querySelector('#df-3d85a489-9ad6-4e22-8957-f1f1ee28041b');\n",
              "        const dataTable =\n",
              "          await google.colab.kernel.invokeFunction('convertToInteractive',\n",
              "                                                    [key], {});\n",
              "        if (!dataTable) return;\n",
              "\n",
              "        const docLinkHtml = 'Like what you see? Visit the ' +\n",
              "          '<a target=\"_blank\" href=https://colab.research.google.com/notebooks/data_table.ipynb>data table notebook</a>'\n",
              "          + ' to learn more about interactive tables.';\n",
              "        element.innerHTML = '';\n",
              "        dataTable['output_type'] = 'display_data';\n",
              "        await google.colab.output.renderOutput(dataTable, element);\n",
              "        const docLink = document.createElement('div');\n",
              "        docLink.innerHTML = docLinkHtml;\n",
              "        element.appendChild(docLink);\n",
              "      }\n",
              "    </script>\n",
              "  </div>\n",
              "\n",
              "\n",
              "<div id=\"df-fddbcbaf-4df7-4306-bb62-837091b71743\">\n",
              "  <button class=\"colab-df-quickchart\" onclick=\"quickchart('df-fddbcbaf-4df7-4306-bb62-837091b71743')\"\n",
              "            title=\"Suggest charts\"\n",
              "            style=\"display:none;\">\n",
              "\n",
              "<svg xmlns=\"http://www.w3.org/2000/svg\" height=\"24px\"viewBox=\"0 0 24 24\"\n",
              "     width=\"24px\">\n",
              "    <g>\n",
              "        <path d=\"M19 3H5c-1.1 0-2 .9-2 2v14c0 1.1.9 2 2 2h14c1.1 0 2-.9 2-2V5c0-1.1-.9-2-2-2zM9 17H7v-7h2v7zm4 0h-2V7h2v10zm4 0h-2v-4h2v4z\"/>\n",
              "    </g>\n",
              "</svg>\n",
              "  </button>\n",
              "\n",
              "<style>\n",
              "  .colab-df-quickchart {\n",
              "      --bg-color: #E8F0FE;\n",
              "      --fill-color: #1967D2;\n",
              "      --hover-bg-color: #E2EBFA;\n",
              "      --hover-fill-color: #174EA6;\n",
              "      --disabled-fill-color: #AAA;\n",
              "      --disabled-bg-color: #DDD;\n",
              "  }\n",
              "\n",
              "  [theme=dark] .colab-df-quickchart {\n",
              "      --bg-color: #3B4455;\n",
              "      --fill-color: #D2E3FC;\n",
              "      --hover-bg-color: #434B5C;\n",
              "      --hover-fill-color: #FFFFFF;\n",
              "      --disabled-bg-color: #3B4455;\n",
              "      --disabled-fill-color: #666;\n",
              "  }\n",
              "\n",
              "  .colab-df-quickchart {\n",
              "    background-color: var(--bg-color);\n",
              "    border: none;\n",
              "    border-radius: 50%;\n",
              "    cursor: pointer;\n",
              "    display: none;\n",
              "    fill: var(--fill-color);\n",
              "    height: 32px;\n",
              "    padding: 0;\n",
              "    width: 32px;\n",
              "  }\n",
              "\n",
              "  .colab-df-quickchart:hover {\n",
              "    background-color: var(--hover-bg-color);\n",
              "    box-shadow: 0 1px 2px rgba(60, 64, 67, 0.3), 0 1px 3px 1px rgba(60, 64, 67, 0.15);\n",
              "    fill: var(--button-hover-fill-color);\n",
              "  }\n",
              "\n",
              "  .colab-df-quickchart-complete:disabled,\n",
              "  .colab-df-quickchart-complete:disabled:hover {\n",
              "    background-color: var(--disabled-bg-color);\n",
              "    fill: var(--disabled-fill-color);\n",
              "    box-shadow: none;\n",
              "  }\n",
              "\n",
              "  .colab-df-spinner {\n",
              "    border: 2px solid var(--fill-color);\n",
              "    border-color: transparent;\n",
              "    border-bottom-color: var(--fill-color);\n",
              "    animation:\n",
              "      spin 1s steps(1) infinite;\n",
              "  }\n",
              "\n",
              "  @keyframes spin {\n",
              "    0% {\n",
              "      border-color: transparent;\n",
              "      border-bottom-color: var(--fill-color);\n",
              "      border-left-color: var(--fill-color);\n",
              "    }\n",
              "    20% {\n",
              "      border-color: transparent;\n",
              "      border-left-color: var(--fill-color);\n",
              "      border-top-color: var(--fill-color);\n",
              "    }\n",
              "    30% {\n",
              "      border-color: transparent;\n",
              "      border-left-color: var(--fill-color);\n",
              "      border-top-color: var(--fill-color);\n",
              "      border-right-color: var(--fill-color);\n",
              "    }\n",
              "    40% {\n",
              "      border-color: transparent;\n",
              "      border-right-color: var(--fill-color);\n",
              "      border-top-color: var(--fill-color);\n",
              "    }\n",
              "    60% {\n",
              "      border-color: transparent;\n",
              "      border-right-color: var(--fill-color);\n",
              "    }\n",
              "    80% {\n",
              "      border-color: transparent;\n",
              "      border-right-color: var(--fill-color);\n",
              "      border-bottom-color: var(--fill-color);\n",
              "    }\n",
              "    90% {\n",
              "      border-color: transparent;\n",
              "      border-bottom-color: var(--fill-color);\n",
              "    }\n",
              "  }\n",
              "</style>\n",
              "\n",
              "  <script>\n",
              "    async function quickchart(key) {\n",
              "      const quickchartButtonEl =\n",
              "        document.querySelector('#' + key + ' button');\n",
              "      quickchartButtonEl.disabled = true;  // To prevent multiple clicks.\n",
              "      quickchartButtonEl.classList.add('colab-df-spinner');\n",
              "      try {\n",
              "        const charts = await google.colab.kernel.invokeFunction(\n",
              "            'suggestCharts', [key], {});\n",
              "      } catch (error) {\n",
              "        console.error('Error during call to suggestCharts:', error);\n",
              "      }\n",
              "      quickchartButtonEl.classList.remove('colab-df-spinner');\n",
              "      quickchartButtonEl.classList.add('colab-df-quickchart-complete');\n",
              "    }\n",
              "    (() => {\n",
              "      let quickchartButtonEl =\n",
              "        document.querySelector('#df-fddbcbaf-4df7-4306-bb62-837091b71743 button');\n",
              "      quickchartButtonEl.style.display =\n",
              "        google.colab.kernel.accessAllowed ? 'block' : 'none';\n",
              "    })();\n",
              "  </script>\n",
              "</div>\n",
              "    </div>\n",
              "  </div>\n"
            ]
          },
          "metadata": {},
          "execution_count": 36
        }
      ]
    },
    {
      "cell_type": "code",
      "source": [
        "#creating bar graph to visualise a comparison between naive_bayes and wordlist classifier\n",
        "import numpy as np\n",
        "model_title=['wordlist_classifier','naivebayes_classifier']\n",
        "precision_items=[p1,p2] #list of precision result of both classifier\n",
        "recall_items=[r1,r2] #list of recall result of both classifier\n",
        "f1score_items=[f1,f2] #list of f1score result of both classifier\n",
        "bar_width=0.1\n",
        "x=np.arange(len(model_title))\n",
        "plt.bar(x-bar_width,precision_items,bar_width,label=\"precision\",color='limegreen')\n",
        "plt.bar(x,recall_items,bar_width,label=\"recall\",color='skyblue')\n",
        "plt.bar(x+bar_width,f1score_items,bar_width,label=\"f1score\",color='orange')\n",
        "\n",
        "\n",
        "[plt.text(i-bar_width,value+0.01,f'{value:.3f}',ha='center',va='bottom',color='black',fontweight='bold') for i,value in enumerate(precision_items)]\n",
        "[plt.text(i,value+0.01,f'{value:.3f}',ha='center',va='bottom',color='black',fontweight='bold') for i,value in enumerate(recall_items)]\n",
        "[plt.text(i+bar_width, value+0.01,f'{value:.3f}',ha='center',va='bottom',color='black',fontweight='bold') for i,value in enumerate(f1score_items)]\n",
        "plt.xlabel('classifiers')\n",
        "plt.ylabel('results')\n",
        "plt.title(\"comparison between naive_bayes and wordlist classifier\")\n",
        "plt.xticks(x,model_title)\n",
        "plt.legend()\n",
        "plt.show()"
      ],
      "metadata": {
        "colab": {
          "base_uri": "https://localhost:8080/",
          "height": 472
        },
        "id": "0aOaq0pYj6Bt",
        "outputId": "ad817fec-0421-4a84-9e46-2ead7cef7a34"
      },
      "execution_count": 37,
      "outputs": [
        {
          "output_type": "display_data",
          "data": {
            "text/plain": [
              "<Figure size 640x480 with 1 Axes>"
            ],
            "image/png": "[encoded data removed]"
          },
          "metadata": {}
        }
      ]
    },
    {
      "cell_type": "markdown",
      "metadata": {
        "id": "bytPkuHf2XUO"
      },
      "source": [
        "**4B--Compare the performance**\n",
        "\n",
        " I created dictionary `d1` which stores the `precision`,`recall` and f1 score of both the classifier and also the difference between each of them. I used pandas dataframe to form a table which has the value for precision, recall and F1 score for wordlist classifier and naive bayes classifier and their result differences. When we compare the each result for both the classifier, we can see the naive bayes classifier has higher value which clearly indicates that naive bayes classifier is a better approach as compared to wordlist classifier. In the above table, if we check the value of precision , recall F1 score for both the classifier , naive bayes classifier performance is better as it has higher value. I also created a bar plot graph for better understanding.   \n",
        " For example, F1 score for wordlist is 0.70 which increases to 0.75 in naive bayes classifier. Recall value of wordlist classifier is 0.93 which is smaller than F1score 0.99 in naive bayes. So, Its look like naive bayes classifier is a better approach"
      ]
    },
    {
      "cell_type": "markdown",
      "metadata": {
        "id": "LGDXaVDqOSfY"
      },
      "source": [
        "5)\n",
        "a) Design and **carry out an experiment** into the impact of the **length of the wordlists** on the wordlist classifier.  Make sure you **describe** design decisions in your experiment, include a **graph** of your results and **discuss** your conclusions.\n",
        "\n",
        "b) Would you **recommend** a wordlist classifier or a Naive Bayes classifier for future work in this area?  **Justify** your answer.\n",
        "\n",
        "[25\\%]\n"
      ]
    },
    {
      "cell_type": "markdown",
      "metadata": {
        "id": "UlxoUthX2XUP"
      },
      "source": []
    },
    {
      "cell_type": "code",
      "execution_count": 38,
      "metadata": {
        "id": "T1L7mZ-k2XUQ"
      },
      "outputs": [],
      "source": [
        "#5a--carryout experiment\n",
        "#randomly taking 50 instances for testing\n",
        "accuracy=[]\n",
        "precision=[]\n",
        "recall=[]\n",
        "f1_score=[]\n",
        "for i in range(10,60):\n",
        "  positive_review_list=[j[0] for j in posdiff.most_common(i)]\n",
        "\n",
        "  negative_review_list=[j[0] for j in negdiff.most_common(i)]\n",
        "  wc=wordlistClassifier(positive_review_list,negative_review_list)\n",
        "  prediction1=wc.classify_many(docs)\n",
        "  accuracy.append(classifier_evaluate(wc,testing_normalise_data))\n",
        "  cm3=confusion_matrix(prediction1,gs)\n",
        "  precision.append(cm3.precision())\n",
        "  recall.append(cm3.recall())\n",
        "  f1_score.append(cm3.F1())"
      ]
    },
    {
      "cell_type": "code",
      "execution_count": 39,
      "metadata": {
        "id": "xFeOWIRm2XUQ",
        "colab": {
          "base_uri": "https://localhost:8080/",
          "height": 450
        },
        "outputId": "9b1b1d24-75ce-4510-bbcf-dc9f342828af"
      },
      "outputs": [
        {
          "output_type": "display_data",
          "data": {
            "text/plain": [
              "<Figure size 640x480 with 1 Axes>"
            ],
            "image/png": "[encoded data removed]"
          },
          "metadata": {}
        }
      ],
      "source": [
        "wordlist_length=list(range(10,60))\n",
        "plt.plot(wordlist_length,accuracy,'g',label=\"Accuracy\")\n",
        "plt.xlabel('wordlist_length')\n",
        "plt.legend()\n",
        "plt.show()"
      ]
    },
    {
      "cell_type": "code",
      "execution_count": 40,
      "metadata": {
        "id": "VT82P88M2XUQ",
        "colab": {
          "base_uri": "https://localhost:8080/",
          "height": 449
        },
        "outputId": "7ed9a868-61e6-42cd-fa1f-d22c84cc6eae"
      },
      "outputs": [
        {
          "output_type": "display_data",
          "data": {
            "text/plain": [
              "<Figure size 640x480 with 1 Axes>"
            ],
            "image/png": "[encoded data removed]"
          },
          "metadata": {}
        }
      ],
      "source": [
        "wordlist_length = list(range(10,60))\n",
        "plt.plot(wordlist_length,precision ,'r',label = 'Precision')\n",
        "plt.xlabel('Word List length')\n",
        "plt.legend()\n",
        "plt.show()"
      ]
    },
    {
      "cell_type": "code",
      "source": [
        "plt.plot(wordlist_length,recall,'g',label='recall')\n",
        "plt.xlabel('wordlist length')\n",
        "plt.legend()\n",
        "plt.show()"
      ],
      "metadata": {
        "colab": {
          "base_uri": "https://localhost:8080/",
          "height": 449
        },
        "id": "8Qqe2HRFFNFP",
        "outputId": "ec8b727d-9ae0-4869-eaa5-ea1a7f7e65ab"
      },
      "execution_count": 41,
      "outputs": [
        {
          "output_type": "display_data",
          "data": {
            "text/plain": [
              "<Figure size 640x480 with 1 Axes>"
            ],
            "image/png": "[encoded data removed]"
          },
          "metadata": {}
        }
      ]
    },
    {
      "cell_type": "code",
      "source": [
        "plt.plot(wordlist_length,f1_score,'b',label='f1 score')\n",
        "plt.xlabel('wordlist length')\n",
        "plt.legend()\n",
        "plt.show()"
      ],
      "metadata": {
        "colab": {
          "base_uri": "https://localhost:8080/",
          "height": 449
        },
        "id": "CE3uxta0FRSs",
        "outputId": "a55546c0-4b33-48ee-d36f-f8ff81930d6e"
      },
      "execution_count": 42,
      "outputs": [
        {
          "output_type": "display_data",
          "data": {
            "text/plain": [
              "<Figure size 640x480 with 1 Axes>"
            ],
            "image/png": "[encoded data removed]"
          },
          "metadata": {}
        }
      ]
    },
    {
      "cell_type": "markdown",
      "metadata": {
        "id": "Ym-TGvYS2XUR"
      },
      "source": [
        "**5a-Carryout experiment graph results**\n",
        "\n",
        "To get the impact of length of wordlist for wordlist calssifier, we take 50 instance of positive and negative list. In loop, for each list , we calculate the accuracy-calling classifier_evaluate(), precision, recall and F1 score -calling confusion matrix.empty list are already created for accuracy, recallm precision and f1 score where this value will be appended using append() method.\n",
        "\n",
        "We used matplotlib to plot the graphs for accuracy, precision, recall and F1 score.\n",
        "- The accuracy decreases from 0.59 to 0.62 and again decreases at 0.615. It is increasing and decreasing at every point. At the end it increases to 0.65\n",
        "\n",
        "- The precision decreases from 0.59 to 0.62 and again decreases at 0.615. It is increasing and decreasing at every point. At the end it increases to 0.65\n",
        "\n",
        "- The recall startsfrom 0.93 and it increase till 0.95 and again increases to 0.96 and maintain a steady flow.\n",
        "- The F1 score starts from 0.701 decreases t0 0.675. It maintain a increase-decrease curve till the highest point 0.735.\n",
        "\n",
        "\n",
        "**5b-classifier recommendation**\n",
        "\n",
        "- I will prefer and recommend `naive bayes classifier` over `wordlist` classifier in future work in this area.\n",
        "\n",
        "- Wordlist classifier is easy to go model as it is using a predefined wordlist.But wordlist classifier is not **dynamic** and it is not using any **probabilistic apprach**.\n",
        "\n",
        "- Naive bayes classifier follow probability as it can handle uncertainty also. wordlist classifier can't learn from new data because it is static. - naive bayes can handle new unseen large data.\n",
        "\n",
        "- However, it depends on the condition of the application. If we have a predefined list and we want to have a simple model, then wordlist classifier may be a good approach.\n",
        "- In sentiment analysis or text classification tasks in general, Naive Bayes classification is often a better choice. It can capture relationships between words and adapt to changing language structures."
      ]
    },
    {
      "cell_type": "code",
      "execution_count": 43,
      "metadata": {
        "colab": {
          "base_uri": "https://localhost:8080/"
        },
        "id": "34rdlS_iPov6",
        "outputId": "e50dc4d1-37ca-401b-86b9-cd28cef36b19"
      },
      "outputs": [
        {
          "output_type": "stream",
          "name": "stdout",
          "text": [
            "Drive already mounted at /content/drive; to attempt to forcibly remount, call drive.mount(\"/content/drive\", force_remount=True).\n",
            "Submission length is 1171\n"
          ]
        }
      ],
      "source": [
        "##This code will word count all of the markdown cells in the notebook saved at filepath\n",
        "\n",
        "import io\n",
        "from nbformat import current\n",
        "\n",
        "from google.colab import drive\n",
        "drive.mount('/content/drive')\n",
        "\n",
        "filepath=\"/content/drive/MyDrive/Colab Notebooks/ANLPassignment2023.ipynb\"\n",
        "question_count=432\n",
        "\n",
        "with io.open(filepath, 'r', encoding='utf-8') as f:\n",
        "    nb = current.read(f, 'json')\n",
        "\n",
        "word_count = 0\n",
        "for cell in nb.worksheets[0].cells:\n",
        "    if cell.cell_type == \"markdown\":\n",
        "        word_count += len(cell['source'].replace('#', '').lstrip().split(' '))\n",
        "print(\"Submission length is {}\".format(word_count-question_count))"
      ]
    }
  ],
  "metadata": {
    "colab": {
      "provenance": []
    },
    "kernelspec": {
      "display_name": "Python 3",
      "language": "python",
      "name": "python3"
    },
    "language_info": {
      "codemirror_mode": {
        "name": "ipython",
        "version": 3
      },
      "file_extension": ".py",
      "mimetype": "text/x-python",
      "name": "python",
      "nbconvert_exporter": "python",
      "pygments_lexer": "ipython3",
      "version": "3.7.4"
    }
  },
  "nbformat": 4,
  "nbformat_minor": 0
}